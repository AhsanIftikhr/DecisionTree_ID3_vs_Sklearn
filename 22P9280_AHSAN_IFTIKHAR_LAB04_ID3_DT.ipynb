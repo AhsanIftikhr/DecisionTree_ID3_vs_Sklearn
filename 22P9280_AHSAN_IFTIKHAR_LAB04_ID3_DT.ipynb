{
  "cells": [
    {
      "cell_type": "markdown",
      "id": "fb2812c5-c316-4a2f-85ac-f8371a5a0718",
      "metadata": {
        "id": "fb2812c5-c316-4a2f-85ac-f8371a5a0718"
      },
      "source": [
        "# LAB04 Decision Tree (ID3) Algorithm (Supervised Learning)\n",
        "\n",
        "Objectives:\n",
        "1. Knowing the basics of the ID3 Algorithm\n",
        "1. Loading csv data in python, (using pandas library)\n",
        "1. Training and building Decision tree using ID3 algorithm from scratch\n",
        "1. Predicting from the tree\n",
        "1. Finding out the accuracy"
      ]
    },
    {
      "cell_type": "code",
      "execution_count": 1,
      "id": "067b68be-2c4b-4d65-a425-1959ea87026d",
      "metadata": {
        "id": "067b68be-2c4b-4d65-a425-1959ea87026d"
      },
      "outputs": [],
      "source": [
        "import pandas as pd #for manipulating the csv data\n",
        "import numpy as np #for mathematical calculation"
      ]
    },
    {
      "cell_type": "code",
      "execution_count": 2,
      "id": "a0b0b862-70f3-4a54-9d3f-7bc5e8a15f3a",
      "metadata": {
        "id": "a0b0b862-70f3-4a54-9d3f-7bc5e8a15f3a"
      },
      "outputs": [],
      "source": [
        "train_data_m = pd.read_csv(\"PlayTennis.csv\")\n",
        "test_data_m = pd.read_csv(\"PlayTennis.csv\")"
      ]
    },
    {
      "cell_type": "code",
      "execution_count": 3,
      "id": "13e74e01-168b-4596-866b-e749e9b1b124",
      "metadata": {
        "colab": {
          "base_uri": "https://localhost:8080/",
          "height": 206
        },
        "id": "13e74e01-168b-4596-866b-e749e9b1b124",
        "outputId": "5b46e553-d1ba-430a-85ba-e605cdc2b917"
      },
      "outputs": [
        {
          "output_type": "execute_result",
          "data": {
            "text/plain": [
              "    Outlook Temperature Humidity    Wind Play Tennis\n",
              "0     Sunny         Hot     High    Weak          No\n",
              "1     Sunny         Hot     High  Strong          No\n",
              "2  Overcast         Hot     High    Weak         Yes\n",
              "3      Rain        Mild     High    Weak         Yes\n",
              "4      Rain        Cool   Normal    Weak         Yes"
            ],
            "text/html": [
              "\n",
              "  <div id=\"df-478b476a-162d-4638-a4f7-1d876966e0fa\" class=\"colab-df-container\">\n",
              "    <div>\n",
              "<style scoped>\n",
              "    .dataframe tbody tr th:only-of-type {\n",
              "        vertical-align: middle;\n",
              "    }\n",
              "\n",
              "    .dataframe tbody tr th {\n",
              "        vertical-align: top;\n",
              "    }\n",
              "\n",
              "    .dataframe thead th {\n",
              "        text-align: right;\n",
              "    }\n",
              "</style>\n",
              "<table border=\"1\" class=\"dataframe\">\n",
              "  <thead>\n",
              "    <tr style=\"text-align: right;\">\n",
              "      <th></th>\n",
              "      <th>Outlook</th>\n",
              "      <th>Temperature</th>\n",
              "      <th>Humidity</th>\n",
              "      <th>Wind</th>\n",
              "      <th>Play Tennis</th>\n",
              "    </tr>\n",
              "  </thead>\n",
              "  <tbody>\n",
              "    <tr>\n",
              "      <th>0</th>\n",
              "      <td>Sunny</td>\n",
              "      <td>Hot</td>\n",
              "      <td>High</td>\n",
              "      <td>Weak</td>\n",
              "      <td>No</td>\n",
              "    </tr>\n",
              "    <tr>\n",
              "      <th>1</th>\n",
              "      <td>Sunny</td>\n",
              "      <td>Hot</td>\n",
              "      <td>High</td>\n",
              "      <td>Strong</td>\n",
              "      <td>No</td>\n",
              "    </tr>\n",
              "    <tr>\n",
              "      <th>2</th>\n",
              "      <td>Overcast</td>\n",
              "      <td>Hot</td>\n",
              "      <td>High</td>\n",
              "      <td>Weak</td>\n",
              "      <td>Yes</td>\n",
              "    </tr>\n",
              "    <tr>\n",
              "      <th>3</th>\n",
              "      <td>Rain</td>\n",
              "      <td>Mild</td>\n",
              "      <td>High</td>\n",
              "      <td>Weak</td>\n",
              "      <td>Yes</td>\n",
              "    </tr>\n",
              "    <tr>\n",
              "      <th>4</th>\n",
              "      <td>Rain</td>\n",
              "      <td>Cool</td>\n",
              "      <td>Normal</td>\n",
              "      <td>Weak</td>\n",
              "      <td>Yes</td>\n",
              "    </tr>\n",
              "  </tbody>\n",
              "</table>\n",
              "</div>\n",
              "    <div class=\"colab-df-buttons\">\n",
              "\n",
              "  <div class=\"colab-df-container\">\n",
              "    <button class=\"colab-df-convert\" onclick=\"convertToInteractive('df-478b476a-162d-4638-a4f7-1d876966e0fa')\"\n",
              "            title=\"Convert this dataframe to an interactive table.\"\n",
              "            style=\"display:none;\">\n",
              "\n",
              "  <svg xmlns=\"http://www.w3.org/2000/svg\" height=\"24px\" viewBox=\"0 -960 960 960\">\n",
              "    <path d=\"M120-120v-720h720v720H120Zm60-500h600v-160H180v160Zm220 220h160v-160H400v160Zm0 220h160v-160H400v160ZM180-400h160v-160H180v160Zm440 0h160v-160H620v160ZM180-180h160v-160H180v160Zm440 0h160v-160H620v160Z\"/>\n",
              "  </svg>\n",
              "    </button>\n",
              "\n",
              "  <style>\n",
              "    .colab-df-container {\n",
              "      display:flex;\n",
              "      gap: 12px;\n",
              "    }\n",
              "\n",
              "    .colab-df-convert {\n",
              "      background-color: #E8F0FE;\n",
              "      border: none;\n",
              "      border-radius: 50%;\n",
              "      cursor: pointer;\n",
              "      display: none;\n",
              "      fill: #1967D2;\n",
              "      height: 32px;\n",
              "      padding: 0 0 0 0;\n",
              "      width: 32px;\n",
              "    }\n",
              "\n",
              "    .colab-df-convert:hover {\n",
              "      background-color: #E2EBFA;\n",
              "      box-shadow: 0px 1px 2px rgba(60, 64, 67, 0.3), 0px 1px 3px 1px rgba(60, 64, 67, 0.15);\n",
              "      fill: #174EA6;\n",
              "    }\n",
              "\n",
              "    .colab-df-buttons div {\n",
              "      margin-bottom: 4px;\n",
              "    }\n",
              "\n",
              "    [theme=dark] .colab-df-convert {\n",
              "      background-color: #3B4455;\n",
              "      fill: #D2E3FC;\n",
              "    }\n",
              "\n",
              "    [theme=dark] .colab-df-convert:hover {\n",
              "      background-color: #434B5C;\n",
              "      box-shadow: 0px 1px 3px 1px rgba(0, 0, 0, 0.15);\n",
              "      filter: drop-shadow(0px 1px 2px rgba(0, 0, 0, 0.3));\n",
              "      fill: #FFFFFF;\n",
              "    }\n",
              "  </style>\n",
              "\n",
              "    <script>\n",
              "      const buttonEl =\n",
              "        document.querySelector('#df-478b476a-162d-4638-a4f7-1d876966e0fa button.colab-df-convert');\n",
              "      buttonEl.style.display =\n",
              "        google.colab.kernel.accessAllowed ? 'block' : 'none';\n",
              "\n",
              "      async function convertToInteractive(key) {\n",
              "        const element = document.querySelector('#df-478b476a-162d-4638-a4f7-1d876966e0fa');\n",
              "        const dataTable =\n",
              "          await google.colab.kernel.invokeFunction('convertToInteractive',\n",
              "                                                    [key], {});\n",
              "        if (!dataTable) return;\n",
              "\n",
              "        const docLinkHtml = 'Like what you see? Visit the ' +\n",
              "          '<a target=\"_blank\" href=https://colab.research.google.com/notebooks/data_table.ipynb>data table notebook</a>'\n",
              "          + ' to learn more about interactive tables.';\n",
              "        element.innerHTML = '';\n",
              "        dataTable['output_type'] = 'display_data';\n",
              "        await google.colab.output.renderOutput(dataTable, element);\n",
              "        const docLink = document.createElement('div');\n",
              "        docLink.innerHTML = docLinkHtml;\n",
              "        element.appendChild(docLink);\n",
              "      }\n",
              "    </script>\n",
              "  </div>\n",
              "\n",
              "\n",
              "    <div id=\"df-a3757fdf-ecff-4e2c-9412-0a04fc8e2057\">\n",
              "      <button class=\"colab-df-quickchart\" onclick=\"quickchart('df-a3757fdf-ecff-4e2c-9412-0a04fc8e2057')\"\n",
              "                title=\"Suggest charts\"\n",
              "                style=\"display:none;\">\n",
              "\n",
              "<svg xmlns=\"http://www.w3.org/2000/svg\" height=\"24px\"viewBox=\"0 0 24 24\"\n",
              "     width=\"24px\">\n",
              "    <g>\n",
              "        <path d=\"M19 3H5c-1.1 0-2 .9-2 2v14c0 1.1.9 2 2 2h14c1.1 0 2-.9 2-2V5c0-1.1-.9-2-2-2zM9 17H7v-7h2v7zm4 0h-2V7h2v10zm4 0h-2v-4h2v4z\"/>\n",
              "    </g>\n",
              "</svg>\n",
              "      </button>\n",
              "\n",
              "<style>\n",
              "  .colab-df-quickchart {\n",
              "      --bg-color: #E8F0FE;\n",
              "      --fill-color: #1967D2;\n",
              "      --hover-bg-color: #E2EBFA;\n",
              "      --hover-fill-color: #174EA6;\n",
              "      --disabled-fill-color: #AAA;\n",
              "      --disabled-bg-color: #DDD;\n",
              "  }\n",
              "\n",
              "  [theme=dark] .colab-df-quickchart {\n",
              "      --bg-color: #3B4455;\n",
              "      --fill-color: #D2E3FC;\n",
              "      --hover-bg-color: #434B5C;\n",
              "      --hover-fill-color: #FFFFFF;\n",
              "      --disabled-bg-color: #3B4455;\n",
              "      --disabled-fill-color: #666;\n",
              "  }\n",
              "\n",
              "  .colab-df-quickchart {\n",
              "    background-color: var(--bg-color);\n",
              "    border: none;\n",
              "    border-radius: 50%;\n",
              "    cursor: pointer;\n",
              "    display: none;\n",
              "    fill: var(--fill-color);\n",
              "    height: 32px;\n",
              "    padding: 0;\n",
              "    width: 32px;\n",
              "  }\n",
              "\n",
              "  .colab-df-quickchart:hover {\n",
              "    background-color: var(--hover-bg-color);\n",
              "    box-shadow: 0 1px 2px rgba(60, 64, 67, 0.3), 0 1px 3px 1px rgba(60, 64, 67, 0.15);\n",
              "    fill: var(--button-hover-fill-color);\n",
              "  }\n",
              "\n",
              "  .colab-df-quickchart-complete:disabled,\n",
              "  .colab-df-quickchart-complete:disabled:hover {\n",
              "    background-color: var(--disabled-bg-color);\n",
              "    fill: var(--disabled-fill-color);\n",
              "    box-shadow: none;\n",
              "  }\n",
              "\n",
              "  .colab-df-spinner {\n",
              "    border: 2px solid var(--fill-color);\n",
              "    border-color: transparent;\n",
              "    border-bottom-color: var(--fill-color);\n",
              "    animation:\n",
              "      spin 1s steps(1) infinite;\n",
              "  }\n",
              "\n",
              "  @keyframes spin {\n",
              "    0% {\n",
              "      border-color: transparent;\n",
              "      border-bottom-color: var(--fill-color);\n",
              "      border-left-color: var(--fill-color);\n",
              "    }\n",
              "    20% {\n",
              "      border-color: transparent;\n",
              "      border-left-color: var(--fill-color);\n",
              "      border-top-color: var(--fill-color);\n",
              "    }\n",
              "    30% {\n",
              "      border-color: transparent;\n",
              "      border-left-color: var(--fill-color);\n",
              "      border-top-color: var(--fill-color);\n",
              "      border-right-color: var(--fill-color);\n",
              "    }\n",
              "    40% {\n",
              "      border-color: transparent;\n",
              "      border-right-color: var(--fill-color);\n",
              "      border-top-color: var(--fill-color);\n",
              "    }\n",
              "    60% {\n",
              "      border-color: transparent;\n",
              "      border-right-color: var(--fill-color);\n",
              "    }\n",
              "    80% {\n",
              "      border-color: transparent;\n",
              "      border-right-color: var(--fill-color);\n",
              "      border-bottom-color: var(--fill-color);\n",
              "    }\n",
              "    90% {\n",
              "      border-color: transparent;\n",
              "      border-bottom-color: var(--fill-color);\n",
              "    }\n",
              "  }\n",
              "</style>\n",
              "\n",
              "      <script>\n",
              "        async function quickchart(key) {\n",
              "          const quickchartButtonEl =\n",
              "            document.querySelector('#' + key + ' button');\n",
              "          quickchartButtonEl.disabled = true;  // To prevent multiple clicks.\n",
              "          quickchartButtonEl.classList.add('colab-df-spinner');\n",
              "          try {\n",
              "            const charts = await google.colab.kernel.invokeFunction(\n",
              "                'suggestCharts', [key], {});\n",
              "          } catch (error) {\n",
              "            console.error('Error during call to suggestCharts:', error);\n",
              "          }\n",
              "          quickchartButtonEl.classList.remove('colab-df-spinner');\n",
              "          quickchartButtonEl.classList.add('colab-df-quickchart-complete');\n",
              "        }\n",
              "        (() => {\n",
              "          let quickchartButtonEl =\n",
              "            document.querySelector('#df-a3757fdf-ecff-4e2c-9412-0a04fc8e2057 button');\n",
              "          quickchartButtonEl.style.display =\n",
              "            google.colab.kernel.accessAllowed ? 'block' : 'none';\n",
              "        })();\n",
              "      </script>\n",
              "    </div>\n",
              "\n",
              "    </div>\n",
              "  </div>\n"
            ],
            "application/vnd.google.colaboratory.intrinsic+json": {
              "type": "dataframe",
              "variable_name": "train_data_m",
              "summary": "{\n  \"name\": \"train_data_m\",\n  \"rows\": 14,\n  \"fields\": [\n    {\n      \"column\": \"Outlook\",\n      \"properties\": {\n        \"dtype\": \"category\",\n        \"num_unique_values\": 3,\n        \"samples\": [\n          \"Sunny\",\n          \"Overcast\",\n          \"Rain\"\n        ],\n        \"semantic_type\": \"\",\n        \"description\": \"\"\n      }\n    },\n    {\n      \"column\": \"Temperature\",\n      \"properties\": {\n        \"dtype\": \"category\",\n        \"num_unique_values\": 3,\n        \"samples\": [\n          \"Hot\",\n          \"Mild\",\n          \"Cool\"\n        ],\n        \"semantic_type\": \"\",\n        \"description\": \"\"\n      }\n    },\n    {\n      \"column\": \"Humidity\",\n      \"properties\": {\n        \"dtype\": \"category\",\n        \"num_unique_values\": 2,\n        \"samples\": [\n          \"Normal\",\n          \"High\"\n        ],\n        \"semantic_type\": \"\",\n        \"description\": \"\"\n      }\n    },\n    {\n      \"column\": \"Wind\",\n      \"properties\": {\n        \"dtype\": \"category\",\n        \"num_unique_values\": 2,\n        \"samples\": [\n          \"Strong\",\n          \"Weak\"\n        ],\n        \"semantic_type\": \"\",\n        \"description\": \"\"\n      }\n    },\n    {\n      \"column\": \"Play Tennis\",\n      \"properties\": {\n        \"dtype\": \"category\",\n        \"num_unique_values\": 2,\n        \"samples\": [\n          \"Yes\",\n          \"No\"\n        ],\n        \"semantic_type\": \"\",\n        \"description\": \"\"\n      }\n    }\n  ]\n}"
            }
          },
          "metadata": {},
          "execution_count": 3
        }
      ],
      "source": [
        "train_data_m.head()\n"
      ]
    },
    {
      "cell_type": "markdown",
      "id": "4930c1cd-3335-495d-8b13-d0b01302d5e6",
      "metadata": {
        "id": "4930c1cd-3335-495d-8b13-d0b01302d5e6"
      },
      "source": [
        "### TASK1) Entropy Calculation (10 pts.)\n",
        "Complete the function to calculate the Entrop of whole dataset\n",
        "parameters:\n",
        "1. Train_data (complete dataset without labels)\n",
        "2. Labels (labels vector)\n",
        "3. Class (list of classes) that is already done in below code\n",
        "\n",
        "![ Entropy Calculations](res/1.png)"
      ]
    },
    {
      "cell_type": "code",
      "execution_count": 4,
      "id": "97ab475b-a597-4100-9630-fb1c7c37f464",
      "metadata": {
        "id": "97ab475b-a597-4100-9630-fb1c7c37f464"
      },
      "outputs": [],
      "source": [
        "def calc_total_entropy(train_data, label, class_list):\n",
        "    # Calculate entropy of the full dataset based on class distribution\n",
        "    total_rows = train_data.shape[0]\n",
        "    total_entropy = 0\n",
        "\n",
        "    for c in class_list:\n",
        "        label_class_count = train_data[train_data[label] == c].shape[0]\n",
        "        if label_class_count != 0:\n",
        "            probability_class = label_class_count / total_rows\n",
        "            total_entropy += -probability_class * np.log2(probability_class)\n",
        "\n",
        "    return total_entropy\n"
      ]
    },
    {
      "cell_type": "markdown",
      "id": "c2bc9df0-c11b-4ece-83a1-537f6f6043b5",
      "metadata": {
        "id": "c2bc9df0-c11b-4ece-83a1-537f6f6043b5"
      },
      "source": [
        "### Calculate the entropy for feature.\n",
        "* Mathematical formulation is as follows\n",
        "\n",
        "\n",
        "   ![ Entropy Calculations](res/2.png)"
      ]
    },
    {
      "cell_type": "code",
      "execution_count": 5,
      "id": "b75f7408-4212-4a30-a531-abf85c79013a",
      "metadata": {
        "id": "b75f7408-4212-4a30-a531-abf85c79013a"
      },
      "outputs": [],
      "source": [
        "## THIS FUNCTION IS COMPLETED FOR YOU. YOU MAY AID YOUR CODE WITH THIS REFERENCE\n",
        "def calc_entropy(feature_value_data, label, class_list):\n",
        "    class_count = feature_value_data.shape[0]\n",
        "    entropy = 0\n",
        "\n",
        "    for c in class_list:\n",
        "        label_class_count = feature_value_data[feature_value_data[label] == c].shape[0]\n",
        "\n",
        "        entropy_class = 0\n",
        "        if label_class_count != 0:\n",
        "            probability_class = label_class_count/class_count\n",
        "            entropy_class = - probability_class * np.log2(probability_class)\n",
        "\n",
        "        entropy += entropy_class\n",
        "\n",
        "    return entropy"
      ]
    },
    {
      "cell_type": "markdown",
      "id": "74e7ad93-c068-4427-8cb2-268b612d917f",
      "metadata": {
        "id": "74e7ad93-c068-4427-8cb2-268b612d917f"
      },
      "source": [
        "### TASK2: Calculate Information Gain (10 pts.)\n",
        "* Information gain formula is given below.\n",
        "* Implement the function **calc_info_gain** which should return the information gain for certain feature which is passes as parameter.\n",
        "\n",
        "![ Entropy Calculations](res/3.png)\n",
        "![ Entropy Calculations](res/4.png)\n",
        "![ Entropy Calculations](res/6.png)\n"
      ]
    },
    {
      "cell_type": "code",
      "execution_count": 6,
      "id": "cd30ca40-ba83-4835-8f11-02e387374580",
      "metadata": {
        "id": "cd30ca40-ba83-4835-8f11-02e387374580"
      },
      "outputs": [],
      "source": [
        "def calc_info_gain(feature_name, train_data, label, class_list):\n",
        "    # Calculate the information gain of splitting on a given feature\n",
        "    total_entropy = calc_total_entropy(train_data, label, class_list)\n",
        "    feature_value_counts = train_data[feature_name].value_counts(sort=False)\n",
        "\n",
        "    weighted_feature_entropy = 0\n",
        "    for feature_value, count in feature_value_counts.items():\n",
        "        feature_value_data = train_data[train_data[feature_name] == feature_value]\n",
        "        feature_entropy = calc_entropy(feature_value_data, label, class_list)\n",
        "        weighted_feature_entropy += (count / train_data.shape[0]) * feature_entropy\n",
        "\n",
        "    info_gain = total_entropy - weighted_feature_entropy\n",
        "    return info_gain\n",
        "\n",
        ""
      ]
    },
    {
      "cell_type": "markdown",
      "id": "bbd582ea-fe99-49fa-857b-758ad50d919d",
      "metadata": {
        "id": "bbd582ea-fe99-49fa-857b-758ad50d919d"
      },
      "source": [
        "### Find Most Informative Feature (find_most_informative_feature)\n",
        "* This function will return the feature with maximum gain.\n",
        "* The maximum gain node will be used for splitting the tree.\n",
        "* Function is already implemented for you."
      ]
    },
    {
      "cell_type": "code",
      "execution_count": 7,
      "id": "8a1cb491-ffe6-47ef-a44e-1dd19b60841d",
      "metadata": {
        "id": "8a1cb491-ffe6-47ef-a44e-1dd19b60841d"
      },
      "outputs": [],
      "source": [
        "def find_most_informative_feature(train_data, label, class_list):\n",
        "    feature_list = train_data.columns.drop(label)\n",
        "    max_info_gain = -1\n",
        "    max_info_feature = None\n",
        "\n",
        "    for feature in feature_list:\n",
        "        feature_info_gain = calc_info_gain(feature, train_data, label, class_list)\n",
        "        if max_info_gain < feature_info_gain:\n",
        "            max_info_gain = feature_info_gain\n",
        "            max_info_feature = feature\n",
        "\n",
        "    return max_info_feature"
      ]
    },
    {
      "cell_type": "markdown",
      "id": "9d93edf4-53e3-4003-8dde-5ac41abe63e9",
      "metadata": {
        "id": "9d93edf4-53e3-4003-8dde-5ac41abe63e9"
      },
      "source": [
        "### Sub Trees Generation Function\n",
        "* This fuction is completed. Don't alter the function\n",
        "* Understanding of this function will help you in understanding the ID3 procedure"
      ]
    },
    {
      "cell_type": "code",
      "execution_count": 8,
      "id": "e387cf91-3909-4a90-8e4e-a1399ba9be8c",
      "metadata": {
        "id": "e387cf91-3909-4a90-8e4e-a1399ba9be8c"
      },
      "outputs": [],
      "source": [
        "def generate_sub_tree(feature_name, train_data, label, class_list):\n",
        "    feature_value_count_dict = train_data[feature_name].value_counts(sort=False)\n",
        "    tree = {}\n",
        "\n",
        "    for feature_value, count in feature_value_count_dict.items():\n",
        "        feature_value_data = train_data[train_data[feature_name] == feature_value]\n",
        "\n",
        "        assigned_to_node = False\n",
        "        for c in class_list:\n",
        "            class_count = feature_value_data[feature_value_data[label] == c].shape[0]\n",
        "\n",
        "            if class_count == count:\n",
        "                tree[feature_value] = c\n",
        "                train_data = train_data[train_data[feature_name] != feature_value]\n",
        "                assigned_to_node = True\n",
        "        if not assigned_to_node:\n",
        "            tree[feature_value] = \"?\"\n",
        "\n",
        "    return tree, train_data"
      ]
    },
    {
      "cell_type": "markdown",
      "id": "183c7573-38ea-4b73-9144-1452706f6c87",
      "metadata": {
        "id": "183c7573-38ea-4b73-9144-1452706f6c87"
      },
      "source": [
        "### Driver Function (make_tree)\n",
        "* Don't change this function. This is completed\n",
        "* This will be called into ID3 driver code and rest of functionality will work when other functions are completed"
      ]
    },
    {
      "cell_type": "code",
      "execution_count": 9,
      "id": "22f9ab27-3b0b-4b14-8f9f-14044cdc6f66",
      "metadata": {
        "id": "22f9ab27-3b0b-4b14-8f9f-14044cdc6f66"
      },
      "outputs": [],
      "source": [
        "def make_tree(root, prev_feature_value, train_data, label, class_list):\n",
        "    if train_data.shape[0] != 0:\n",
        "        max_info_feature = find_most_informative_feature(train_data, label, class_list)\n",
        "        tree, train_data = generate_sub_tree(max_info_feature, train_data, label, class_list)\n",
        "        next_root = None\n",
        "\n",
        "        if prev_feature_value != None:\n",
        "            root[prev_feature_value] = dict()\n",
        "            root[prev_feature_value][max_info_feature] = tree\n",
        "            next_root = root[prev_feature_value][max_info_feature]\n",
        "        else:\n",
        "            root[max_info_feature] = tree\n",
        "            next_root = root[max_info_feature]\n",
        "\n",
        "        for node, branch in list(next_root.items()):\n",
        "            if branch == \"?\":\n",
        "                feature_value_data = train_data[train_data[max_info_feature] == node]\n",
        "                make_tree(next_root, node, feature_value_data, label, class_list)"
      ]
    },
    {
      "cell_type": "markdown",
      "id": "64f61a5d-4d23-4354-b3ae-348db215a7e9",
      "metadata": {
        "id": "64f61a5d-4d23-4354-b3ae-348db215a7e9"
      },
      "source": [
        "### ID3 Driver Code (No changes requried)"
      ]
    },
    {
      "cell_type": "code",
      "execution_count": 10,
      "id": "f663d433-4de3-44af-bb2b-060b05487203",
      "metadata": {
        "id": "f663d433-4de3-44af-bb2b-060b05487203"
      },
      "outputs": [],
      "source": [
        "def id3(train_data_m, label):\n",
        "    train_data = train_data_m.copy()\n",
        "    tree = {}\n",
        "    class_list = train_data[label].unique()\n",
        "    make_tree(tree, None, train_data, label, class_list)\n",
        "\n",
        "    return tree"
      ]
    },
    {
      "cell_type": "code",
      "execution_count": 11,
      "id": "b2066ca9-4741-43ea-b087-ddd7a361a421",
      "metadata": {
        "colab": {
          "base_uri": "https://localhost:8080/"
        },
        "id": "b2066ca9-4741-43ea-b087-ddd7a361a421",
        "outputId": "00984e3b-e176-4b07-d34d-b301266a8046"
      },
      "outputs": [
        {
          "output_type": "stream",
          "name": "stdout",
          "text": [
            "{'Outlook': {'Sunny': {'Humidity': {'High': 'No', 'Normal': 'Yes'}}, 'Overcast': 'Yes', 'Rain': {'Wind': {'Weak': 'Yes', 'Strong': 'No'}}}}\n"
          ]
        }
      ],
      "source": [
        "# Press the green button in the gutter to run the script.\n",
        "if __name__ == '__main__':\n",
        "    tree = id3(train_data_m, 'Play Tennis')\n",
        "    print(tree)\n"
      ]
    },
    {
      "cell_type": "markdown",
      "id": "546c2adc-e3d5-4eca-9588-97012d041587",
      "metadata": {
        "id": "546c2adc-e3d5-4eca-9588-97012d041587"
      },
      "source": [
        "### Validate the predictions on different instances (test_data) which is already loaded in memory."
      ]
    },
    {
      "cell_type": "code",
      "execution_count": 12,
      "id": "96fb1b43-82f9-46cc-89eb-8dee2843bb42",
      "metadata": {
        "id": "96fb1b43-82f9-46cc-89eb-8dee2843bb42"
      },
      "outputs": [],
      "source": [
        "def predict(tree, instance):\n",
        "    if not isinstance(tree, dict):\n",
        "        return tree\n",
        "    else:\n",
        "        root_node = next(iter(tree))\n",
        "        feature_value = instance[root_node]\n",
        "        if feature_value in tree[root_node]:\n",
        "            return predict(tree[root_node][feature_value], instance)\n",
        "        else:\n",
        "            return None"
      ]
    },
    {
      "cell_type": "code",
      "execution_count": 13,
      "id": "f3463914-5017-4220-890c-6a3beba1f50c",
      "metadata": {
        "id": "f3463914-5017-4220-890c-6a3beba1f50c"
      },
      "outputs": [],
      "source": [
        "def evaluate(tree, test_data_m, label):\n",
        "    correct_preditct = 0\n",
        "    wrong_preditct = 0\n",
        "    for index, row in test_data_m.iterrows():\n",
        "        result = predict(tree, test_data_m.iloc[index])\n",
        "        if result == test_data_m[label].iloc[index]:\n",
        "            correct_preditct += 1\n",
        "        else:\n",
        "            wrong_preditct += 1\n",
        "    accuracy = correct_preditct / (correct_preditct + wrong_preditct)\n",
        "    return accuracy"
      ]
    },
    {
      "cell_type": "code",
      "execution_count": 14,
      "id": "965c4015-4fd6-40f1-9863-200b807919d7",
      "metadata": {
        "colab": {
          "base_uri": "https://localhost:8080/"
        },
        "id": "965c4015-4fd6-40f1-9863-200b807919d7",
        "outputId": "2ec426b5-fe77-4506-96be-3f0785ff2cbe"
      },
      "outputs": [
        {
          "output_type": "stream",
          "name": "stdout",
          "text": [
            "accuracy: 1.0\n"
          ]
        }
      ],
      "source": [
        "accuracy = evaluate(tree, test_data_m, 'Play Tennis')\n",
        "print(\"accuracy:\", accuracy)"
      ]
    },
    {
      "cell_type": "markdown",
      "source": [
        "## **SKLEARN Decision Tree Code with Graphviz Visualization**"
      ],
      "metadata": {
        "id": "4DHJKKVUeMgA"
      },
      "id": "4DHJKKVUeMgA"
    },
    {
      "cell_type": "markdown",
      "source": [
        "**Required Library**"
      ],
      "metadata": {
        "id": "noMOfOGheZVY"
      },
      "id": "noMOfOGheZVY"
    },
    {
      "cell_type": "code",
      "execution_count": 15,
      "id": "c04acc24",
      "metadata": {
        "colab": {
          "base_uri": "https://localhost:8080/"
        },
        "id": "c04acc24",
        "outputId": "c7a42b66-8b8b-4127-c9e0-5aeff155f04f"
      },
      "outputs": [
        {
          "output_type": "stream",
          "name": "stdout",
          "text": [
            "Requirement already satisfied: graphviz in /usr/local/lib/python3.11/dist-packages (0.21)\n"
          ]
        }
      ],
      "source": [
        "pip install graphviz\n"
      ]
    },
    {
      "cell_type": "markdown",
      "source": [
        "# **Import Required Libraries**"
      ],
      "metadata": {
        "id": "79UlbYKiegIQ"
      },
      "id": "79UlbYKiegIQ"
    },
    {
      "cell_type": "code",
      "source": [
        "from sklearn.tree import DecisionTreeClassifier, export_graphviz\n",
        "from sklearn import preprocessing\n",
        "from sklearn.metrics import accuracy_score\n",
        "import pandas as pd\n",
        "import numpy as np\n",
        "import graphviz\n"
      ],
      "metadata": {
        "id": "MT0jjfovej0o"
      },
      "id": "MT0jjfovej0o",
      "execution_count": 16,
      "outputs": []
    },
    {
      "cell_type": "markdown",
      "source": [
        "# **Load and Preprocess Data**"
      ],
      "metadata": {
        "id": "4jutUciXep0B"
      },
      "id": "4jutUciXep0B"
    },
    {
      "cell_type": "code",
      "source": [
        "df = pd.read_csv(\"PlayTennis.csv\")\n",
        "print(\"Columns:\", df.columns.tolist())\n"
      ],
      "metadata": {
        "colab": {
          "base_uri": "https://localhost:8080/"
        },
        "id": "gg2DwGdBerSo",
        "outputId": "d017959a-3a81-4b9a-9103-695fc8c00c56"
      },
      "id": "gg2DwGdBerSo",
      "execution_count": 18,
      "outputs": [
        {
          "output_type": "stream",
          "name": "stdout",
          "text": [
            "Columns: ['Outlook', 'Temperature', 'Humidity', 'Wind', 'Play Tennis']\n"
          ]
        }
      ]
    },
    {
      "cell_type": "code",
      "source": [
        "\n",
        "# Encode categorical variables using LabelEncoder\n",
        "le = preprocessing.LabelEncoder()\n",
        "encoded_df = df.apply(le.fit_transform)\n",
        "\n",
        "# Use the correct target column name\n",
        "target_column = \"Play Tennis\"\n",
        "\n",
        "# Split features and target\n",
        "X = encoded_df.drop(target_column, axis=1)\n",
        "y = encoded_df[target_column]\n"
      ],
      "metadata": {
        "id": "6-yVgqVFe7ZI"
      },
      "id": "6-yVgqVFe7ZI",
      "execution_count": 22,
      "outputs": []
    },
    {
      "cell_type": "markdown",
      "source": [
        "# **Train Decision Tree Using ID3 (Entropy)**"
      ],
      "metadata": {
        "id": "HvPar97Mfqwi"
      },
      "id": "HvPar97Mfqwi"
    },
    {
      "cell_type": "code",
      "source": [
        "# Create and train classifier using 'entropy' criterion (ID3 logic)\n",
        "clf = DecisionTreeClassifier(criterion=\"entropy\")\n",
        "clf = clf.fit(X, y)\n"
      ],
      "metadata": {
        "id": "x08Nx0EMfsPQ"
      },
      "id": "x08Nx0EMfsPQ",
      "execution_count": 23,
      "outputs": []
    },
    {
      "cell_type": "markdown",
      "source": [
        "# **Visualize the Tree using Graphviz**"
      ],
      "metadata": {
        "id": "V01SeXrsfwuj"
      },
      "id": "V01SeXrsfwuj"
    },
    {
      "cell_type": "code",
      "source": [
        "# Feature names and class names\n",
        "feature_names = list(X.columns)\n",
        "class_names = le.classes_  # ['No', 'Yes']\n",
        "\n",
        "# Export tree to DOT format\n",
        "dot_data = export_graphviz(clf, out_file=None,\n",
        "                           feature_names=feature_names,\n",
        "                           class_names=class_names,\n",
        "                           filled=True, rounded=True,\n",
        "                           special_characters=True)\n",
        "\n",
        "# Render tree\n",
        "graph = graphviz.Source(dot_data)\n",
        "graph.render(\"decision_tree_sklearn\", format='png', cleanup=True)  # saves as PNG\n",
        "graph  # displays inline in notebook\n"
      ],
      "metadata": {
        "colab": {
          "base_uri": "https://localhost:8080/",
          "height": 757
        },
        "id": "Mk-oJkyWfyKo",
        "outputId": "514ff0b6-4482-4049-bbe7-7855a306cef9"
      },
      "id": "Mk-oJkyWfyKo",
      "execution_count": 24,
      "outputs": [
        {
          "output_type": "execute_result",
          "data": {
            "image/svg+xml": "<?xml version=\"1.0\" encoding=\"UTF-8\" standalone=\"no\"?>\n<!DOCTYPE svg PUBLIC \"-//W3C//DTD SVG 1.1//EN\"\n \"http://www.w3.org/Graphics/SVG/1.1/DTD/svg11.dtd\">\n<!-- Generated by graphviz version 2.43.0 (0)\n -->\n<!-- Title: Tree Pages: 1 -->\n<svg width=\"508pt\" height=\"552pt\"\n viewBox=\"0.00 0.00 508.00 552.00\" xmlns=\"http://www.w3.org/2000/svg\" xmlns:xlink=\"http://www.w3.org/1999/xlink\">\n<g id=\"graph0\" class=\"graph\" transform=\"scale(1 1) rotate(0) translate(4 548)\">\n<title>Tree</title>\n<polygon fill=\"white\" stroke=\"transparent\" points=\"-4,4 -4,-548 504,-548 504,4 -4,4\"/>\n<!-- 0 -->\n<g id=\"node1\" class=\"node\">\n<title>0</title>\n<path fill=\"#a7d3f3\" stroke=\"black\" d=\"M257,-544C257,-544 177,-544 177,-544 171,-544 165,-538 165,-532 165,-532 165,-473 165,-473 165,-467 171,-461 177,-461 177,-461 257,-461 257,-461 263,-461 269,-467 269,-473 269,-473 269,-532 269,-532 269,-538 263,-544 257,-544\"/>\n<text text-anchor=\"start\" x=\"176\" y=\"-528.8\" font-family=\"Helvetica,sans-Serif\" font-size=\"14.00\">Outlook ≤ 0.5</text>\n<text text-anchor=\"start\" x=\"173\" y=\"-513.8\" font-family=\"Helvetica,sans-Serif\" font-size=\"14.00\">entropy = 0.94</text>\n<text text-anchor=\"start\" x=\"176\" y=\"-498.8\" font-family=\"Helvetica,sans-Serif\" font-size=\"14.00\">samples = 14</text>\n<text text-anchor=\"start\" x=\"177.5\" y=\"-483.8\" font-family=\"Helvetica,sans-Serif\" font-size=\"14.00\">value = [5, 9]</text>\n<text text-anchor=\"start\" x=\"182\" y=\"-468.8\" font-family=\"Helvetica,sans-Serif\" font-size=\"14.00\">class = Yes</text>\n</g>\n<!-- 1 -->\n<g id=\"node2\" class=\"node\">\n<title>1</title>\n<path fill=\"#399de5\" stroke=\"black\" d=\"M194,-417.5C194,-417.5 122,-417.5 122,-417.5 116,-417.5 110,-411.5 110,-405.5 110,-405.5 110,-361.5 110,-361.5 110,-355.5 116,-349.5 122,-349.5 122,-349.5 194,-349.5 194,-349.5 200,-349.5 206,-355.5 206,-361.5 206,-361.5 206,-405.5 206,-405.5 206,-411.5 200,-417.5 194,-417.5\"/>\n<text text-anchor=\"start\" x=\"118\" y=\"-402.3\" font-family=\"Helvetica,sans-Serif\" font-size=\"14.00\">entropy = 0.0</text>\n<text text-anchor=\"start\" x=\"120.5\" y=\"-387.3\" font-family=\"Helvetica,sans-Serif\" font-size=\"14.00\">samples = 4</text>\n<text text-anchor=\"start\" x=\"118.5\" y=\"-372.3\" font-family=\"Helvetica,sans-Serif\" font-size=\"14.00\">value = [0, 4]</text>\n<text text-anchor=\"start\" x=\"123\" y=\"-357.3\" font-family=\"Helvetica,sans-Serif\" font-size=\"14.00\">class = Yes</text>\n</g>\n<!-- 0&#45;&gt;1 -->\n<g id=\"edge1\" class=\"edge\">\n<title>0&#45;&gt;1</title>\n<path fill=\"none\" stroke=\"black\" d=\"M196.53,-460.91C190.97,-449.87 184.93,-437.9 179.32,-426.77\"/>\n<polygon fill=\"black\" stroke=\"black\" points=\"182.35,-425.02 174.73,-417.67 176.1,-428.17 182.35,-425.02\"/>\n<text text-anchor=\"middle\" x=\"166.9\" y=\"-437.71\" font-family=\"Helvetica,sans-Serif\" font-size=\"14.00\">True</text>\n</g>\n<!-- 2 -->\n<g id=\"node3\" class=\"node\">\n<title>2</title>\n<path fill=\"#ffffff\" stroke=\"black\" d=\"M316,-425C316,-425 236,-425 236,-425 230,-425 224,-419 224,-413 224,-413 224,-354 224,-354 224,-348 230,-342 236,-342 236,-342 316,-342 316,-342 322,-342 328,-348 328,-354 328,-354 328,-413 328,-413 328,-419 322,-425 316,-425\"/>\n<text text-anchor=\"start\" x=\"232\" y=\"-409.8\" font-family=\"Helvetica,sans-Serif\" font-size=\"14.00\">Humidity ≤ 0.5</text>\n<text text-anchor=\"start\" x=\"236\" y=\"-394.8\" font-family=\"Helvetica,sans-Serif\" font-size=\"14.00\">entropy = 1.0</text>\n<text text-anchor=\"start\" x=\"235\" y=\"-379.8\" font-family=\"Helvetica,sans-Serif\" font-size=\"14.00\">samples = 10</text>\n<text text-anchor=\"start\" x=\"236.5\" y=\"-364.8\" font-family=\"Helvetica,sans-Serif\" font-size=\"14.00\">value = [5, 5]</text>\n<text text-anchor=\"start\" x=\"244\" y=\"-349.8\" font-family=\"Helvetica,sans-Serif\" font-size=\"14.00\">class = No</text>\n</g>\n<!-- 0&#45;&gt;2 -->\n<g id=\"edge2\" class=\"edge\">\n<title>0&#45;&gt;2</title>\n<path fill=\"none\" stroke=\"black\" d=\"M237.47,-460.91C241.82,-452.29 246.45,-443.09 250.95,-434.17\"/>\n<polygon fill=\"black\" stroke=\"black\" points=\"254.19,-435.53 255.57,-425.02 247.94,-432.37 254.19,-435.53\"/>\n<text text-anchor=\"middle\" x=\"263.39\" y=\"-445.06\" font-family=\"Helvetica,sans-Serif\" font-size=\"14.00\">False</text>\n</g>\n<!-- 3 -->\n<g id=\"node4\" class=\"node\">\n<title>3</title>\n<path fill=\"#eca06a\" stroke=\"black\" d=\"M254.5,-306C254.5,-306 167.5,-306 167.5,-306 161.5,-306 155.5,-300 155.5,-294 155.5,-294 155.5,-235 155.5,-235 155.5,-229 161.5,-223 167.5,-223 167.5,-223 254.5,-223 254.5,-223 260.5,-223 266.5,-229 266.5,-235 266.5,-235 266.5,-294 266.5,-294 266.5,-300 260.5,-306 254.5,-306\"/>\n<text text-anchor=\"start\" x=\"170\" y=\"-290.8\" font-family=\"Helvetica,sans-Serif\" font-size=\"14.00\">Outlook ≤ 1.5</text>\n<text text-anchor=\"start\" x=\"163.5\" y=\"-275.8\" font-family=\"Helvetica,sans-Serif\" font-size=\"14.00\">entropy = 0.722</text>\n<text text-anchor=\"start\" x=\"173.5\" y=\"-260.8\" font-family=\"Helvetica,sans-Serif\" font-size=\"14.00\">samples = 5</text>\n<text text-anchor=\"start\" x=\"171.5\" y=\"-245.8\" font-family=\"Helvetica,sans-Serif\" font-size=\"14.00\">value = [4, 1]</text>\n<text text-anchor=\"start\" x=\"179\" y=\"-230.8\" font-family=\"Helvetica,sans-Serif\" font-size=\"14.00\">class = No</text>\n</g>\n<!-- 2&#45;&gt;3 -->\n<g id=\"edge3\" class=\"edge\">\n<title>2&#45;&gt;3</title>\n<path fill=\"none\" stroke=\"black\" d=\"M253.45,-341.91C248.61,-333.2 243.44,-323.9 238.44,-314.89\"/>\n<polygon fill=\"black\" stroke=\"black\" points=\"241.43,-313.06 233.51,-306.02 235.31,-316.46 241.43,-313.06\"/>\n</g>\n<!-- 8 -->\n<g id=\"node9\" class=\"node\">\n<title>8</title>\n<path fill=\"#6ab6ec\" stroke=\"black\" d=\"M383.5,-306C383.5,-306 296.5,-306 296.5,-306 290.5,-306 284.5,-300 284.5,-294 284.5,-294 284.5,-235 284.5,-235 284.5,-229 290.5,-223 296.5,-223 296.5,-223 383.5,-223 383.5,-223 389.5,-223 395.5,-229 395.5,-235 395.5,-235 395.5,-294 395.5,-294 395.5,-300 389.5,-306 383.5,-306\"/>\n<text text-anchor=\"start\" x=\"307\" y=\"-290.8\" font-family=\"Helvetica,sans-Serif\" font-size=\"14.00\">Wind ≤ 0.5</text>\n<text text-anchor=\"start\" x=\"292.5\" y=\"-275.8\" font-family=\"Helvetica,sans-Serif\" font-size=\"14.00\">entropy = 0.722</text>\n<text text-anchor=\"start\" x=\"302.5\" y=\"-260.8\" font-family=\"Helvetica,sans-Serif\" font-size=\"14.00\">samples = 5</text>\n<text text-anchor=\"start\" x=\"300.5\" y=\"-245.8\" font-family=\"Helvetica,sans-Serif\" font-size=\"14.00\">value = [1, 4]</text>\n<text text-anchor=\"start\" x=\"305\" y=\"-230.8\" font-family=\"Helvetica,sans-Serif\" font-size=\"14.00\">class = Yes</text>\n</g>\n<!-- 2&#45;&gt;8 -->\n<g id=\"edge8\" class=\"edge\">\n<title>2&#45;&gt;8</title>\n<path fill=\"none\" stroke=\"black\" d=\"M298.2,-341.91C302.97,-333.2 308.06,-323.9 312.98,-314.89\"/>\n<polygon fill=\"black\" stroke=\"black\" points=\"316.11,-316.47 317.83,-306.02 309.97,-313.11 316.11,-316.47\"/>\n</g>\n<!-- 4 -->\n<g id=\"node5\" class=\"node\">\n<title>4</title>\n<path fill=\"#ffffff\" stroke=\"black\" d=\"M137,-187C137,-187 65,-187 65,-187 59,-187 53,-181 53,-175 53,-175 53,-116 53,-116 53,-110 59,-104 65,-104 65,-104 137,-104 137,-104 143,-104 149,-110 149,-116 149,-116 149,-175 149,-175 149,-181 143,-187 137,-187\"/>\n<text text-anchor=\"start\" x=\"68\" y=\"-171.8\" font-family=\"Helvetica,sans-Serif\" font-size=\"14.00\">Wind ≤ 0.5</text>\n<text text-anchor=\"start\" x=\"61\" y=\"-156.8\" font-family=\"Helvetica,sans-Serif\" font-size=\"14.00\">entropy = 1.0</text>\n<text text-anchor=\"start\" x=\"63.5\" y=\"-141.8\" font-family=\"Helvetica,sans-Serif\" font-size=\"14.00\">samples = 2</text>\n<text text-anchor=\"start\" x=\"61.5\" y=\"-126.8\" font-family=\"Helvetica,sans-Serif\" font-size=\"14.00\">value = [1, 1]</text>\n<text text-anchor=\"start\" x=\"69\" y=\"-111.8\" font-family=\"Helvetica,sans-Serif\" font-size=\"14.00\">class = No</text>\n</g>\n<!-- 3&#45;&gt;4 -->\n<g id=\"edge4\" class=\"edge\">\n<title>3&#45;&gt;4</title>\n<path fill=\"none\" stroke=\"black\" d=\"M172.84,-222.91C164.22,-213.74 154.99,-203.93 146.12,-194.49\"/>\n<polygon fill=\"black\" stroke=\"black\" points=\"148.5,-191.91 139.1,-187.02 143.4,-196.7 148.5,-191.91\"/>\n</g>\n<!-- 7 -->\n<g id=\"node8\" class=\"node\">\n<title>7</title>\n<path fill=\"#e58139\" stroke=\"black\" d=\"M251,-179.5C251,-179.5 179,-179.5 179,-179.5 173,-179.5 167,-173.5 167,-167.5 167,-167.5 167,-123.5 167,-123.5 167,-117.5 173,-111.5 179,-111.5 179,-111.5 251,-111.5 251,-111.5 257,-111.5 263,-117.5 263,-123.5 263,-123.5 263,-167.5 263,-167.5 263,-173.5 257,-179.5 251,-179.5\"/>\n<text text-anchor=\"start\" x=\"175\" y=\"-164.3\" font-family=\"Helvetica,sans-Serif\" font-size=\"14.00\">entropy = 0.0</text>\n<text text-anchor=\"start\" x=\"177.5\" y=\"-149.3\" font-family=\"Helvetica,sans-Serif\" font-size=\"14.00\">samples = 3</text>\n<text text-anchor=\"start\" x=\"175.5\" y=\"-134.3\" font-family=\"Helvetica,sans-Serif\" font-size=\"14.00\">value = [3, 0]</text>\n<text text-anchor=\"start\" x=\"183\" y=\"-119.3\" font-family=\"Helvetica,sans-Serif\" font-size=\"14.00\">class = No</text>\n</g>\n<!-- 3&#45;&gt;7 -->\n<g id=\"edge7\" class=\"edge\">\n<title>3&#45;&gt;7</title>\n<path fill=\"none\" stroke=\"black\" d=\"M212.39,-222.91C212.75,-212.2 213.15,-200.62 213.52,-189.78\"/>\n<polygon fill=\"black\" stroke=\"black\" points=\"217.02,-189.78 213.87,-179.67 210.03,-189.54 217.02,-189.78\"/>\n</g>\n<!-- 5 -->\n<g id=\"node6\" class=\"node\">\n<title>5</title>\n<path fill=\"#e58139\" stroke=\"black\" d=\"M84,-68C84,-68 12,-68 12,-68 6,-68 0,-62 0,-56 0,-56 0,-12 0,-12 0,-6 6,0 12,0 12,0 84,0 84,0 90,0 96,-6 96,-12 96,-12 96,-56 96,-56 96,-62 90,-68 84,-68\"/>\n<text text-anchor=\"start\" x=\"8\" y=\"-52.8\" font-family=\"Helvetica,sans-Serif\" font-size=\"14.00\">entropy = 0.0</text>\n<text text-anchor=\"start\" x=\"10.5\" y=\"-37.8\" font-family=\"Helvetica,sans-Serif\" font-size=\"14.00\">samples = 1</text>\n<text text-anchor=\"start\" x=\"8.5\" y=\"-22.8\" font-family=\"Helvetica,sans-Serif\" font-size=\"14.00\">value = [1, 0]</text>\n<text text-anchor=\"start\" x=\"16\" y=\"-7.8\" font-family=\"Helvetica,sans-Serif\" font-size=\"14.00\">class = No</text>\n</g>\n<!-- 4&#45;&gt;5 -->\n<g id=\"edge5\" class=\"edge\">\n<title>4&#45;&gt;5</title>\n<path fill=\"none\" stroke=\"black\" d=\"M81.26,-103.73C77.11,-95.15 72.73,-86.09 68.55,-77.46\"/>\n<polygon fill=\"black\" stroke=\"black\" points=\"71.62,-75.78 64.12,-68.3 65.32,-78.83 71.62,-75.78\"/>\n</g>\n<!-- 6 -->\n<g id=\"node7\" class=\"node\">\n<title>6</title>\n<path fill=\"#399de5\" stroke=\"black\" d=\"M198,-68C198,-68 126,-68 126,-68 120,-68 114,-62 114,-56 114,-56 114,-12 114,-12 114,-6 120,0 126,0 126,0 198,0 198,0 204,0 210,-6 210,-12 210,-12 210,-56 210,-56 210,-62 204,-68 198,-68\"/>\n<text text-anchor=\"start\" x=\"122\" y=\"-52.8\" font-family=\"Helvetica,sans-Serif\" font-size=\"14.00\">entropy = 0.0</text>\n<text text-anchor=\"start\" x=\"124.5\" y=\"-37.8\" font-family=\"Helvetica,sans-Serif\" font-size=\"14.00\">samples = 1</text>\n<text text-anchor=\"start\" x=\"122.5\" y=\"-22.8\" font-family=\"Helvetica,sans-Serif\" font-size=\"14.00\">value = [0, 1]</text>\n<text text-anchor=\"start\" x=\"127\" y=\"-7.8\" font-family=\"Helvetica,sans-Serif\" font-size=\"14.00\">class = Yes</text>\n</g>\n<!-- 4&#45;&gt;6 -->\n<g id=\"edge6\" class=\"edge\">\n<title>4&#45;&gt;6</title>\n<path fill=\"none\" stroke=\"black\" d=\"M123.71,-103.73C128.54,-95.06 133.65,-85.9 138.5,-77.18\"/>\n<polygon fill=\"black\" stroke=\"black\" points=\"141.64,-78.74 143.45,-68.3 135.53,-75.33 141.64,-78.74\"/>\n</g>\n<!-- 9 -->\n<g id=\"node10\" class=\"node\">\n<title>9</title>\n<path fill=\"#ffffff\" stroke=\"black\" d=\"M374,-187C374,-187 300,-187 300,-187 294,-187 288,-181 288,-175 288,-175 288,-116 288,-116 288,-110 294,-104 300,-104 300,-104 374,-104 374,-104 380,-104 386,-110 386,-116 386,-116 386,-175 386,-175 386,-181 380,-187 374,-187\"/>\n<text text-anchor=\"start\" x=\"296\" y=\"-171.8\" font-family=\"Helvetica,sans-Serif\" font-size=\"14.00\">Outlook ≤ 1.5</text>\n<text text-anchor=\"start\" x=\"297\" y=\"-156.8\" font-family=\"Helvetica,sans-Serif\" font-size=\"14.00\">entropy = 1.0</text>\n<text text-anchor=\"start\" x=\"299.5\" y=\"-141.8\" font-family=\"Helvetica,sans-Serif\" font-size=\"14.00\">samples = 2</text>\n<text text-anchor=\"start\" x=\"297.5\" y=\"-126.8\" font-family=\"Helvetica,sans-Serif\" font-size=\"14.00\">value = [1, 1]</text>\n<text text-anchor=\"start\" x=\"305\" y=\"-111.8\" font-family=\"Helvetica,sans-Serif\" font-size=\"14.00\">class = No</text>\n</g>\n<!-- 8&#45;&gt;9 -->\n<g id=\"edge9\" class=\"edge\">\n<title>8&#45;&gt;9</title>\n<path fill=\"none\" stroke=\"black\" d=\"M338.96,-222.91C338.75,-214.56 338.52,-205.67 338.3,-197.02\"/>\n<polygon fill=\"black\" stroke=\"black\" points=\"341.79,-196.93 338.04,-187.02 334.8,-197.11 341.79,-196.93\"/>\n</g>\n<!-- 12 -->\n<g id=\"node13\" class=\"node\">\n<title>12</title>\n<path fill=\"#399de5\" stroke=\"black\" d=\"M488,-179.5C488,-179.5 416,-179.5 416,-179.5 410,-179.5 404,-173.5 404,-167.5 404,-167.5 404,-123.5 404,-123.5 404,-117.5 410,-111.5 416,-111.5 416,-111.5 488,-111.5 488,-111.5 494,-111.5 500,-117.5 500,-123.5 500,-123.5 500,-167.5 500,-167.5 500,-173.5 494,-179.5 488,-179.5\"/>\n<text text-anchor=\"start\" x=\"412\" y=\"-164.3\" font-family=\"Helvetica,sans-Serif\" font-size=\"14.00\">entropy = 0.0</text>\n<text text-anchor=\"start\" x=\"414.5\" y=\"-149.3\" font-family=\"Helvetica,sans-Serif\" font-size=\"14.00\">samples = 3</text>\n<text text-anchor=\"start\" x=\"412.5\" y=\"-134.3\" font-family=\"Helvetica,sans-Serif\" font-size=\"14.00\">value = [0, 3]</text>\n<text text-anchor=\"start\" x=\"417\" y=\"-119.3\" font-family=\"Helvetica,sans-Serif\" font-size=\"14.00\">class = Yes</text>\n</g>\n<!-- 8&#45;&gt;12 -->\n<g id=\"edge12\" class=\"edge\">\n<title>8&#45;&gt;12</title>\n<path fill=\"none\" stroke=\"black\" d=\"M378.86,-222.91C389.95,-211.32 402.03,-198.7 413.12,-187.11\"/>\n<polygon fill=\"black\" stroke=\"black\" points=\"415.86,-189.31 420.25,-179.67 410.81,-184.47 415.86,-189.31\"/>\n</g>\n<!-- 10 -->\n<g id=\"node11\" class=\"node\">\n<title>10</title>\n<path fill=\"#e58139\" stroke=\"black\" d=\"M342,-68C342,-68 270,-68 270,-68 264,-68 258,-62 258,-56 258,-56 258,-12 258,-12 258,-6 264,0 270,0 270,0 342,0 342,0 348,0 354,-6 354,-12 354,-12 354,-56 354,-56 354,-62 348,-68 342,-68\"/>\n<text text-anchor=\"start\" x=\"266\" y=\"-52.8\" font-family=\"Helvetica,sans-Serif\" font-size=\"14.00\">entropy = 0.0</text>\n<text text-anchor=\"start\" x=\"268.5\" y=\"-37.8\" font-family=\"Helvetica,sans-Serif\" font-size=\"14.00\">samples = 1</text>\n<text text-anchor=\"start\" x=\"266.5\" y=\"-22.8\" font-family=\"Helvetica,sans-Serif\" font-size=\"14.00\">value = [1, 0]</text>\n<text text-anchor=\"start\" x=\"274\" y=\"-7.8\" font-family=\"Helvetica,sans-Serif\" font-size=\"14.00\">class = No</text>\n</g>\n<!-- 9&#45;&gt;10 -->\n<g id=\"edge10\" class=\"edge\">\n<title>9&#45;&gt;10</title>\n<path fill=\"none\" stroke=\"black\" d=\"M325.46,-103.73C323.08,-95.34 320.57,-86.47 318.18,-78.01\"/>\n<polygon fill=\"black\" stroke=\"black\" points=\"321.52,-76.97 315.43,-68.3 314.78,-78.87 321.52,-76.97\"/>\n</g>\n<!-- 11 -->\n<g id=\"node12\" class=\"node\">\n<title>11</title>\n<path fill=\"#399de5\" stroke=\"black\" d=\"M456,-68C456,-68 384,-68 384,-68 378,-68 372,-62 372,-56 372,-56 372,-12 372,-12 372,-6 378,0 384,0 384,0 456,0 456,0 462,0 468,-6 468,-12 468,-12 468,-56 468,-56 468,-62 462,-68 456,-68\"/>\n<text text-anchor=\"start\" x=\"380\" y=\"-52.8\" font-family=\"Helvetica,sans-Serif\" font-size=\"14.00\">entropy = 0.0</text>\n<text text-anchor=\"start\" x=\"382.5\" y=\"-37.8\" font-family=\"Helvetica,sans-Serif\" font-size=\"14.00\">samples = 1</text>\n<text text-anchor=\"start\" x=\"380.5\" y=\"-22.8\" font-family=\"Helvetica,sans-Serif\" font-size=\"14.00\">value = [0, 1]</text>\n<text text-anchor=\"start\" x=\"385\" y=\"-7.8\" font-family=\"Helvetica,sans-Serif\" font-size=\"14.00\">class = Yes</text>\n</g>\n<!-- 9&#45;&gt;11 -->\n<g id=\"edge11\" class=\"edge\">\n<title>9&#45;&gt;11</title>\n<path fill=\"none\" stroke=\"black\" d=\"M367.91,-103.73C374.68,-94.79 381.86,-85.32 388.65,-76.36\"/>\n<polygon fill=\"black\" stroke=\"black\" points=\"391.51,-78.38 394.76,-68.3 385.93,-74.15 391.51,-78.38\"/>\n</g>\n</g>\n</svg>\n",
            "text/plain": [
              "<graphviz.sources.Source at 0x7da340511510>"
            ]
          },
          "metadata": {},
          "execution_count": 24
        }
      ]
    },
    {
      "cell_type": "markdown",
      "source": [
        "# **Accuracy Comparison**"
      ],
      "metadata": {
        "id": "Y6rh6Ejff3hI"
      },
      "id": "Y6rh6Ejff3hI"
    },
    {
      "cell_type": "code",
      "source": [
        "# Predict using sklearn\n",
        "y_pred_sklearn = clf.predict(X)\n",
        "\n",
        "# Accuracy\n",
        "accuracy_sklearn = accuracy_score(y, y_pred_sklearn)\n",
        "print(f\"Sklearn Decision Tree Accuracy: {accuracy_sklearn * 100:.2f}%\")\n"
      ],
      "metadata": {
        "colab": {
          "base_uri": "https://localhost:8080/"
        },
        "id": "oYkBPxyjf6eR",
        "outputId": "71e4096b-7ba8-4b38-800b-5774dccf7c4f"
      },
      "id": "oYkBPxyjf6eR",
      "execution_count": 25,
      "outputs": [
        {
          "output_type": "stream",
          "name": "stdout",
          "text": [
            "Sklearn Decision Tree Accuracy: 100.00%\n"
          ]
        }
      ]
    }
  ],
  "metadata": {
    "kernelspec": {
      "display_name": "Python 3 (ipykernel)",
      "language": "python",
      "name": "python3"
    },
    "language_info": {
      "codemirror_mode": {
        "name": "ipython",
        "version": 3
      },
      "file_extension": ".py",
      "mimetype": "text/x-python",
      "name": "python",
      "nbconvert_exporter": "python",
      "pygments_lexer": "ipython3",
      "version": "3.11.4"
    },
    "colab": {
      "provenance": []
    }
  },
  "nbformat": 4,
  "nbformat_minor": 5
}